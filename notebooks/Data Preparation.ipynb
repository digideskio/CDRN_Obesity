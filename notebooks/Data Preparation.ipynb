{
 "cells": [
  {
   "cell_type": "code",
   "execution_count": 1,
   "metadata": {
    "collapsed": false
   },
   "outputs": [],
   "source": [
    "%matplotlib inline\n",
    "import pandas as pd\n",
    "import numpy as np\n",
    "import seaborn as sns"
   ]
  },
  {
   "cell_type": "code",
   "execution_count": 2,
   "metadata": {
    "collapsed": false
   },
   "outputs": [
    {
     "name": "stderr",
     "output_type": "stream",
     "text": [
      "/Users/fonnescj/anaconda3/envs/obesity/lib/python3.5/site-packages/IPython/core/interactiveshell.py:2717: DtypeWarning: Columns (2,64,77,129,136,137,142,144,145,146,147,149,150,151,152,154,155,156,157,158,159,160,161,162,163,164,165,166,167,168,169,170,171,172,173,174,176,178,179,180,190,198,204,206,208,214) have mixed types. Specify dtype option on import or set low_memory=False.\n",
      "  interactivity=interactivity, compiler=compiler, result=result)\n"
     ]
    }
   ],
   "source": [
    "dataset_raw = pd.read_csv('../data/raw/HealthyWeightCohortDataset_8_16_16.csv')"
   ]
  },
  {
   "cell_type": "code",
   "execution_count": 4,
   "metadata": {
    "collapsed": false
   },
   "outputs": [
    {
     "data": {
      "text/plain": [
       "sex_cmnt                   0\n",
       "name_last                  0\n",
       "race___7                   0\n",
       "dob                        0\n",
       "mrn                        0\n",
       "race___6                   0\n",
       "race___1                   0\n",
       "race___5                   0\n",
       "race___4                   0\n",
       "pref_cont___33             0\n",
       "recruit_entity             0\n",
       "pref_cont___7              0\n",
       "pref_cont___5              0\n",
       "pref_cont___4              0\n",
       "pref_cont___3              0\n",
       "pref_cont___2              0\n",
       "pref_cont___1              0\n",
       "past_res                   0\n",
       "method_recruited           0\n",
       "race___3                   0\n",
       "race___2                   0\n",
       "recruit_site               0\n",
       "pref_cont___6              0\n",
       "race___33                  0\n",
       "patient_id_greenway        1\n",
       "complete70                 7\n",
       "percent_complete           7\n",
       "name_first                 7\n",
       "age                       13\n",
       "age_recoded               14\n",
       "                       ...  \n",
       "Bid                    11520\n",
       "Contact_f2f            11520\n",
       "Contact_Phone          11520\n",
       "Contact_Letter         11520\n",
       "Contact_HWemail        11520\n",
       "iPad_via_f2f           11520\n",
       "Paper_via_f2f          11520\n",
       "PaperRACHD_via_f2f     11520\n",
       "iPadRACHD_via_f2f      11520\n",
       "iPadPTCHD_via_f2f      11520\n",
       "Phone_via_f2f          11520\n",
       "HW_complete            11520\n",
       "Email__via_f2f         11520\n",
       "mail_via_mail          11520\n",
       "email_via_mail         11520\n",
       "mail__via_f2f          11520\n",
       "online_via_mail        11520\n",
       "phone_via_phone        11520\n",
       "email_via_phone        11520\n",
       "phone_via_mail         11520\n",
       "mail_via_phone         11520\n",
       "preg_com               11641\n",
       "weight_ra_b            11667\n",
       "wt_quest               11697\n",
       "race___99              11722\n",
       "diab_typ               11750\n",
       "pregnant               11771\n",
       "address_country        11773\n",
       "sex                    11773\n",
       "pref_cont___8          11775\n",
       "dtype: int64"
      ]
     },
     "execution_count": 4,
     "metadata": {},
     "output_type": "execute_result"
    }
   ],
   "source": [
    "dataset_raw.isnull().sum().sort_values()"
   ]
  }
 ],
 "metadata": {
  "anaconda-cloud": {},
  "kernelspec": {
   "display_name": "Python 3",
   "language": "python",
   "name": "python3"
  },
  "language_info": {
   "codemirror_mode": {
    "name": "ipython",
    "version": 3
   },
   "file_extension": ".py",
   "mimetype": "text/x-python",
   "name": "python",
   "nbconvert_exporter": "python",
   "pygments_lexer": "ipython3",
   "version": "3.5.2"
  },
  "nav_menu": {},
  "toc": {
   "navigate_menu": true,
   "number_sections": false,
   "sideBar": true,
   "threshold": 6,
   "toc_cell": false,
   "toc_section_display": "block",
   "toc_window_display": false
  }
 },
 "nbformat": 4,
 "nbformat_minor": 1
}
